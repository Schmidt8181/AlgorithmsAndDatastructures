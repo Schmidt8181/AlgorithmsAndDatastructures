{
 "cells": [
  {
   "cell_type": "code",
   "execution_count": 1,
   "metadata": {
    "collapsed": true
   },
   "outputs": [],
   "source": [
    "import numpy as np\n",
    "from collections import deque"
   ]
  },
  {
   "cell_type": "code",
   "execution_count": 85,
   "metadata": {
    "collapsed": true
   },
   "outputs": [],
   "source": [
    "class Node(object):\n",
    "\n",
    "    def __init__(self, value):\n",
    "        self.value = value\n",
    "        self.left = None\n",
    "        self.right = None\n",
    "        \n",
    "\n",
    "class BinarySearchTree(object):\n",
    "    \n",
    "    def __init__(self, root):\n",
    "        #Check root is proper\n",
    "        self.root = root\n",
    "        \n",
    "    \n",
    "    def add(self, value):\n",
    "        currentNode = self.root\n",
    "        previousNode = self.root\n",
    "        # left <= parent\n",
    "        # right > parent\n",
    "        while currentNode is not None:\n",
    "            previousNode = currentNode\n",
    "            if value <= currentNode.value:\n",
    "                if currentNode.left is not None:\n",
    "                    currentNode = currentNode.left \n",
    "                else: \n",
    "                    currentNode.left = Node(value)\n",
    "                    break\n",
    "\n",
    "            if value > currentNode.value:\n",
    "                if currentNode.right is not None:\n",
    "                    currentNode = currentNode.right\n",
    "                else:\n",
    "                    currentNode.right = Node(value)\n",
    "                    break\n",
    "\n",
    "\n",
    "\n",
    "                    \n",
    "root = Node(5)\n",
    "tree = BinarySearchTree(root)\n",
    "tree.add(4)\n",
    "\n"
   ]
  },
  {
   "cell_type": "code",
   "execution_count": 86,
   "metadata": {
    "collapsed": true
   },
   "outputs": [],
   "source": [
    "def breadth_first_traversal(self):\n",
    "    queue = deque([self.root])\n",
    "    values = []\n",
    "    \n",
    "    while len(queue) > 0:\n",
    "        current_node = queue.popleft()\n",
    "        values.append(current_node.value)\n",
    "        if current_node.left is not None:\n",
    "            queue.append(current_node.left)\n",
    "        if current_node.right is not None:\n",
    "            queue.append(current_node.right)\n",
    "    print(values)\n"
   ]
  },
  {
   "cell_type": "code",
   "execution_count": 87,
   "metadata": {
    "collapsed": true
   },
   "outputs": [],
   "source": [
    "tree.add(9)"
   ]
  },
  {
   "cell_type": "code",
   "execution_count": 88,
   "metadata": {
    "collapsed": true
   },
   "outputs": [],
   "source": [
    "tree.add(8)"
   ]
  },
  {
   "cell_type": "code",
   "execution_count": 89,
   "metadata": {
    "collapsed": true
   },
   "outputs": [],
   "source": [
    "tree.add(7)\n",
    "tree.add(6)\n",
    "tree.add(3)\n",
    "tree.add(2)"
   ]
  },
  {
   "cell_type": "code",
   "execution_count": 90,
   "metadata": {},
   "outputs": [
    {
     "name": "stdout",
     "output_type": "stream",
     "text": [
      "[5, 4, 9, 3, 8, 2, 7, 6]\n"
     ]
    }
   ],
   "source": [
    "breadth_first_traversal(tree)"
   ]
  },
  {
   "cell_type": "code",
   "execution_count": 92,
   "metadata": {},
   "outputs": [
    {
     "data": {
      "text/plain": [
       "233168"
      ]
     },
     "execution_count": 92,
     "metadata": {},
     "output_type": "execute_result"
    }
   ],
   "source": [
    "# Find the sum of all the multiples of 3 or 5 below 1000.\n",
    "\n",
    "def find_multiples_sum(numbers):\n",
    "    answer = 0\n",
    "    for i in numbers:\n",
    "        if i%3==0 or i%5 == 0:\n",
    "            answer += i\n",
    "    return answer\n",
    "\n",
    "nums = list(range(0, 1000))\n",
    "\n",
    "find_multiples_sum(nums)"
   ]
  },
  {
   "cell_type": "code",
   "execution_count": 93,
   "metadata": {},
   "outputs": [
    {
     "name": "stdout",
     "output_type": "stream",
     "text": [
      "4613732\n"
     ]
    }
   ],
   "source": [
    "# By considering the terms in the Fibonacci sequence whose values do not\n",
    "# exceed four million, find the sum of the even-valued terms.\n",
    "\n",
    "\n",
    "fibonacci = []\n",
    "a,b = 1,2\n",
    "while a < 4000000:\n",
    "    a,b = b, a+b\n",
    "    fibonacci.append(a)\n",
    "answer = sum([i for i in fibonacci if i%2==0])\n",
    "print(answer)"
   ]
  },
  {
   "cell_type": "code",
   "execution_count": 94,
   "metadata": {
    "collapsed": true
   },
   "outputs": [],
   "source": [
    "# What is the largest prime factor of the number 600851475143 ?\n",
    "\n",
    "def factors(my_int):\n",
    "    test_num=2\n",
    "    factors = []\n",
    "    while test_num * test_num <= my_int:\n",
    "        if my_int%test_num:\n",
    "            test_num += 1\n",
    "        else:\n",
    "            factors.append(test_num)\n",
    "            my_int //= test_num\n",
    "    if my_int > 1:\n",
    "        factors.append(my_int)\n",
    "    return factors"
   ]
  },
  {
   "cell_type": "code",
   "execution_count": 95,
   "metadata": {},
   "outputs": [
    {
     "data": {
      "text/plain": [
       "[71, 839, 1471, 6857]"
      ]
     },
     "execution_count": 95,
     "metadata": {},
     "output_type": "execute_result"
    }
   ],
   "source": [
    "factors(600851475143)"
   ]
  },
  {
   "cell_type": "code",
   "execution_count": 12,
   "metadata": {},
   "outputs": [
    {
     "data": {
      "text/plain": [
       "[906609,\n",
       " 906609,\n",
       " 888888,\n",
       " 888888,\n",
       " 886688,\n",
       " 886688,\n",
       " 861168,\n",
       " 861168,\n",
       " 824428,\n",
       " 824428,\n",
       " 819918,\n",
       " 819918]"
      ]
     },
     "execution_count": 12,
     "metadata": {},
     "output_type": "execute_result"
    }
   ],
   "source": [
    "# Largest palindrome product\n",
    "# find the largest palindrome made from the product of two 3 digit numbers\n",
    "# thinking: start at 999 * 999 and increment down, checking each product for palindromeness\n",
    "# increment down throught the 990's on the \n",
    "\n",
    "def is_palindrome(value):\n",
    "    return str(value) == str(value)[::-1]\n",
    "\n",
    "def check_vals(a, b):\n",
    "    palindromes = []\n",
    "    for x in range(a, b, -1):\n",
    "        for y in range(a, b, -1):\n",
    "            if is_palindrome(x*y):\n",
    "                palindromes.append(x*y)\n",
    "    return sorted(palindromes, reverse=True)\n",
    "\n",
    "check_vals(999,900)"
   ]
  },
  {
   "cell_type": "code",
   "execution_count": 17,
   "metadata": {},
   "outputs": [
    {
     "data": {
      "text/plain": [
       "[2520, 2520, 2520, 2520, 2520, 2520, 2520, 2520, 2520, 2520, 2522, 2527]"
      ]
     },
     "execution_count": 17,
     "metadata": {},
     "output_type": "execute_result"
    }
   ],
   "source": [
    "# Smallest multiple\n",
    "# smallest positive number that can be even divided by all 1-20 numbers\n",
    "test_num = 2520\n",
    "my_list = [1,2,3,4,5,6,7,8,9,10,11,12,13,14,15,16,17,18,19,20]\n",
    "answer = []\n",
    "for x in my_list:\n",
    "    if test_num%x==0:\n",
    "        answer.append(test_num)\n",
    "    else:\n",
    "        test_num+=1\n",
    "\n",
    "answer"
   ]
  },
  {
   "cell_type": "code",
   "execution_count": 33,
   "metadata": {},
   "outputs": [
    {
     "data": {
      "text/plain": [
       "25164150"
      ]
     },
     "execution_count": 33,
     "metadata": {},
     "output_type": "execute_result"
    }
   ],
   "source": [
    "# Sum square difference\n",
    "# what is the difference in the squared sum of 1-100 and the sum of squared 1-100\n",
    "my_list = range(0,101,1) # damn range didn't include 100!\n",
    "\n",
    "def get_sum_difference(my_list):\n",
    "    sums = 0\n",
    "    sum_of_sq = 0 \n",
    "    for x in my_list:\n",
    "        sums += x\n",
    "        sum_of_sq += (x*x)\n",
    "    answer = (sums*sums) - sum_of_sq\n",
    "    return answer\n",
    "\n",
    "get_sum_difference(my_list)"
   ]
  },
  {
   "cell_type": "code",
   "execution_count": 99,
   "metadata": {
    "collapsed": true
   },
   "outputs": [],
   "source": [
    "# 10001st prime"
   ]
  },
  {
   "cell_type": "code",
   "execution_count": 100,
   "metadata": {
    "collapsed": true
   },
   "outputs": [],
   "source": [
    "# Largest product in a series"
   ]
  },
  {
   "cell_type": "code",
   "execution_count": 101,
   "metadata": {
    "collapsed": true
   },
   "outputs": [],
   "source": [
    "# Special Pythagorean triplet"
   ]
  },
  {
   "cell_type": "code",
   "execution_count": 102,
   "metadata": {
    "collapsed": true
   },
   "outputs": [],
   "source": [
    "# Summation of primes"
   ]
  },
  {
   "cell_type": "code",
   "execution_count": null,
   "metadata": {
    "collapsed": true
   },
   "outputs": [],
   "source": [
    "\n",
    "import numpy as np\n",
    "from collections import deque\n",
    "\n",
    "class Node(object):\n",
    "\n",
    "    def __init__(self, value):\n",
    "        self.value = value\n",
    "        self.left = None\n",
    "        self.right = None\n",
    "        \n",
    "\n",
    "class BinarySearchTree(object):\n",
    "    \n",
    "    def __init__(self, root):\n",
    "        #Check root is proper\n",
    "        self.root = root\n",
    "        \n",
    "    \n",
    "    def add(self, value):\n",
    "        currentNode = self.root\n",
    "        previousNode = self.root\n",
    "        # left <= parent\n",
    "        # right > parent\n",
    "        while currentNode is not None:\n",
    "            previousNode = currentNode\n",
    "            if value <= currentNode.value:\n",
    "                if currentNode.left is not None:\n",
    "                    currentNode = currentNode.left \n",
    "                else: \n",
    "                    currentNode.left = Node(value)\n",
    "                    break\n",
    "\n",
    "            if value > currentNode.value:\n",
    "                if currentNode.right is not None:\n",
    "                    currentNode = currentNode.right\n",
    "                else:\n",
    "                    currentNode.right = Node(value)\n",
    "                    break\n",
    "                    \n",
    "    def pre_order(self, node):\n",
    "        if node is not None:\n",
    "            print(node.value)\n",
    "            self.depth_first_search(node.left)\n",
    "            self.depth_first_search(node.right)\n",
    "             \n",
    "    def in_order(self, node):\n",
    "          if node is not None:\n",
    "                self.depth_first_search(node.left)\n",
    "                print(node.value)\n",
    "                self.depth_first_search(node.right)\n",
    "             \n",
    "             \n",
    "             \n"
   ]
  },
  {
   "cell_type": "code",
   "execution_count": null,
   "metadata": {
    "collapsed": true
   },
   "outputs": [],
   "source": [
    "\n"
   ]
  }
 ],
 "metadata": {
  "anaconda-cloud": {},
  "kernelspec": {
   "display_name": "Python [default]",
   "language": "python",
   "name": "python3"
  },
  "language_info": {
   "codemirror_mode": {
    "name": "ipython",
    "version": 3
   },
   "file_extension": ".py",
   "mimetype": "text/x-python",
   "name": "python",
   "nbconvert_exporter": "python",
   "pygments_lexer": "ipython3",
   "version": "3.6.1"
  }
 },
 "nbformat": 4,
 "nbformat_minor": 2
}
