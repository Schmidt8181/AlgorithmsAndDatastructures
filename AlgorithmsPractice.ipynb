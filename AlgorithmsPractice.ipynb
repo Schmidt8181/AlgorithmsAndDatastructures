{
 "cells": [
  {
   "cell_type": "code",
   "execution_count": 84,
   "metadata": {
    "collapsed": true
   },
   "outputs": [],
   "source": [
    "import numpy as np\n",
    "from collections import deque"
   ]
  },
  {
   "cell_type": "code",
   "execution_count": 85,
   "metadata": {
    "collapsed": true
   },
   "outputs": [],
   "source": [
    "class Node(object):\n",
    "\n",
    "    def __init__(self, value):\n",
    "        self.value = value\n",
    "        self.left = None\n",
    "        self.right = None\n",
    "        \n",
    "\n",
    "class BinarySearchTree(object):\n",
    "    \n",
    "    def __init__(self, root):\n",
    "        #Check root is proper\n",
    "        self.root = root\n",
    "        \n",
    "    \n",
    "    def add(self, value):\n",
    "        currentNode = self.root\n",
    "        previousNode = self.root\n",
    "        # left <= parent\n",
    "        # right > parent\n",
    "        while currentNode is not None:\n",
    "            previousNode = currentNode\n",
    "            if value <= currentNode.value:\n",
    "                if currentNode.left is not None:\n",
    "                    currentNode = currentNode.left \n",
    "                else: \n",
    "                    currentNode.left = Node(value)\n",
    "                    break\n",
    "\n",
    "            if value > currentNode.value:\n",
    "                if currentNode.right is not None:\n",
    "                    currentNode = currentNode.right\n",
    "                else:\n",
    "                    currentNode.right = Node(value)\n",
    "                    break\n",
    "\n",
    "\n",
    "\n",
    "                    \n",
    "root = Node(5)\n",
    "tree = BinarySearchTree(root)\n",
    "tree.add(4)\n",
    "\n"
   ]
  },
  {
   "cell_type": "code",
   "execution_count": 86,
   "metadata": {},
   "outputs": [],
   "source": [
    "def breadth_first_traversal(self):\n",
    "    queue = deque([self.root])\n",
    "    values = []\n",
    "    \n",
    "    while len(queue) > 0:\n",
    "        current_node = queue.popleft()\n",
    "        values.append(current_node.value)\n",
    "        if current_node.left is not None:\n",
    "            queue.append(current_node.left)\n",
    "        if current_node.right is not None:\n",
    "            queue.append(current_node.right)\n",
    "    print(values)\n"
   ]
  },
  {
   "cell_type": "code",
   "execution_count": 87,
   "metadata": {},
   "outputs": [],
   "source": [
    "tree.add(9)"
   ]
  },
  {
   "cell_type": "code",
   "execution_count": 88,
   "metadata": {},
   "outputs": [],
   "source": [
    "tree.add(8)"
   ]
  },
  {
   "cell_type": "code",
   "execution_count": 89,
   "metadata": {},
   "outputs": [],
   "source": [
    "tree.add(7)\n",
    "tree.add(6)\n",
    "tree.add(3)\n",
    "tree.add(2)"
   ]
  },
  {
   "cell_type": "code",
   "execution_count": 90,
   "metadata": {},
   "outputs": [
    {
     "name": "stdout",
     "output_type": "stream",
     "text": [
      "[5, 4, 9, 3, 8, 2, 7, 6]\n"
     ]
    }
   ],
   "source": [
    "breadth_first_traversal(tree)"
   ]
  },
  {
   "cell_type": "code",
   "execution_count": 92,
   "metadata": {},
   "outputs": [
    {
     "data": {
      "text/plain": [
       "233168"
      ]
     },
     "execution_count": 92,
     "metadata": {},
     "output_type": "execute_result"
    }
   ],
   "source": [
    "# Find the sum of all the multiples of 3 or 5 below 1000.\n",
    "\n",
    "def find_multiples_sum(numbers):\n",
    "    answer = 0\n",
    "    for i in numbers:\n",
    "        if i%3==0 or i%5 == 0:\n",
    "            answer += i\n",
    "    return answer\n",
    "\n",
    "nums = list(range(0, 1000))\n",
    "\n",
    "find_multiples_sum(nums)"
   ]
  },
  {
   "cell_type": "code",
   "execution_count": 93,
   "metadata": {},
   "outputs": [
    {
     "name": "stdout",
     "output_type": "stream",
     "text": [
      "4613732\n"
     ]
    }
   ],
   "source": [
    "# By considering the terms in the Fibonacci sequence whose values do not\n",
    "# exceed four million, find the sum of the even-valued terms.\n",
    "\n",
    "\n",
    "fibonacci = []\n",
    "a,b = 1,2\n",
    "while a < 4000000:\n",
    "    a,b = b, a+b\n",
    "    fibonacci.append(a)\n",
    "answer = sum([i for i in fibonacci if i%2==0])\n",
    "print(answer)"
   ]
  },
  {
   "cell_type": "code",
   "execution_count": 94,
   "metadata": {
    "collapsed": true
   },
   "outputs": [],
   "source": [
    "# What is the largest prime factor of the number 600851475143 ?\n",
    "\n",
    "def factors(my_int):\n",
    "    test_num=2\n",
    "    factors = []\n",
    "    while test_num * test_num <= my_int:\n",
    "        if my_int%test_num:\n",
    "            test_num += 1\n",
    "        else:\n",
    "            factors.append(test_num)\n",
    "            my_int //= test_num\n",
    "    if my_int > 1:\n",
    "        factors.append(my_int)\n",
    "    return factors"
   ]
  },
  {
   "cell_type": "code",
   "execution_count": 95,
   "metadata": {},
   "outputs": [
    {
     "data": {
      "text/plain": [
       "[71, 839, 1471, 6857]"
      ]
     },
     "execution_count": 95,
     "metadata": {},
     "output_type": "execute_result"
    }
   ],
   "source": [
    "factors(600851475143)"
   ]
  },
  {
   "cell_type": "code",
   "execution_count": 96,
   "metadata": {
    "collapsed": true
   },
   "outputs": [],
   "source": [
    "# Largest palindrome product\n",
    "# find the largest palindrome made from the product of two 3 digit numbers\n",
    "# thinking:\n",
    "# start looking for the largest palindrome"
   ]
  },
  {
   "cell_type": "code",
   "execution_count": 97,
   "metadata": {
    "collapsed": true
   },
   "outputs": [],
   "source": [
    "# Smallest multiple"
   ]
  },
  {
   "cell_type": "code",
   "execution_count": 98,
   "metadata": {
    "collapsed": true
   },
   "outputs": [],
   "source": [
    "# Sum square difference"
   ]
  },
  {
   "cell_type": "code",
   "execution_count": 99,
   "metadata": {
    "collapsed": true
   },
   "outputs": [],
   "source": [
    "# 10001st prime"
   ]
  },
  {
   "cell_type": "code",
   "execution_count": 100,
   "metadata": {
    "collapsed": true
   },
   "outputs": [],
   "source": [
    "# Largest product in a series"
   ]
  },
  {
   "cell_type": "code",
   "execution_count": 101,
   "metadata": {
    "collapsed": true
   },
   "outputs": [],
   "source": [
    "# Special Pythagorean triplet"
   ]
  },
  {
   "cell_type": "code",
   "execution_count": 102,
   "metadata": {
    "collapsed": true
   },
   "outputs": [],
   "source": [
    "# Summation of primes"
   ]
  }
 ],
 "metadata": {
  "anaconda-cloud": {},
  "kernelspec": {
   "display_name": "Python [conda env:anaconda]",
   "language": "python",
   "name": "conda-env-anaconda-py"
  },
  "language_info": {
   "codemirror_mode": {
    "name": "ipython",
    "version": 3
   },
   "file_extension": ".py",
   "mimetype": "text/x-python",
   "name": "python",
   "nbconvert_exporter": "python",
   "pygments_lexer": "ipython3",
   "version": "3.6.1"
  }
 },
 "nbformat": 4,
 "nbformat_minor": 2
}
